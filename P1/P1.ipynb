{
 "cells": [
  {
   "cell_type": "markdown",
   "metadata": {},
   "source": [
    "# Projeto 1"
   ]
  },
  {
   "cell_type": "markdown",
   "metadata": {},
   "source": [
    "Neste projeto, será analisado o banco de dados (retirado do site https://www.gapminder.org/data/) de IDH, suicídios por 100.000 habitantes e acesso à internet por 100 habitantes. Dessa análise serão feita conclusões sobre a correlação desses dados, respondendo à pergunta:"
   ]
  },
  {
   "cell_type": "markdown",
   "metadata": {},
   "source": [
    "Como o IDH reflete o suicídio e qual a influência do acesso à internet em ambos os anos 2002 e 2004?"
   ]
  },
  {
   "cell_type": "markdown",
   "metadata": {},
   "source": [
    "Foram escolhidos os anos de 2002 e 2004 por serem os anos com mais numero de dados para as 3 tabelas"
   ]
  },
  {
   "cell_type": "markdown",
   "metadata": {},
   "source": [
    "# Limpeza e estruturação dos dados para o ano 2002"
   ]
  },
  {
   "cell_type": "code",
   "execution_count": 39,
   "metadata": {},
   "outputs": [],
   "source": [
    "## IMPORTS\n",
    "\n",
    "%matplotlib inline\n",
    "import pandas as pd\n",
    "import numpy as np\n",
    "import math as math\n",
    "from scipy import stats\n",
    "import matplotlib.pyplot as plt\n",
    "import seaborn as sns\n",
    "\n",
    "\n",
    "#Leitura dos arquivos em Excel\n",
    "\n",
    "IDH = pd.read_excel('hdi_human_development_index.xlsx')\n",
    "Suic = pd.read_excel('suicide indicator age adjusted -05 extrapolated UL 2020100818b.xlsx')\n",
    "Internet = pd.read_excel('Internet user per 100.xlsx')\n",
    "Internet2 = pd.read_excel('Internet user per 100_2.xlsx') \n",
    "comp_In = pd.read_excel('Comparação internet.xlsx') \n",
    "comp_S = pd.read_excel('Comparação suic.xlsx') \n",
    "comp_IDH = pd.read_excel('Comparação idh.xlsx') "
   ]
  },
  {
   "cell_type": "markdown",
   "metadata": {},
   "source": [
    "# Dataframe 2002"
   ]
  },
  {
   "cell_type": "code",
   "execution_count": 40,
   "metadata": {},
   "outputs": [
    {
     "data": {
      "text/html": [
       "<div>\n",
       "<style scoped>\n",
       "    .dataframe tbody tr th:only-of-type {\n",
       "        vertical-align: middle;\n",
       "    }\n",
       "\n",
       "    .dataframe tbody tr th {\n",
       "        vertical-align: top;\n",
       "    }\n",
       "\n",
       "    .dataframe thead th {\n",
       "        text-align: right;\n",
       "    }\n",
       "</style>\n",
       "<table border=\"1\" class=\"dataframe\">\n",
       "  <thead>\n",
       "    <tr style=\"text-align: right;\">\n",
       "      <th></th>\n",
       "      <th>2002_IDH</th>\n",
       "      <th>2002_Suicídios</th>\n",
       "      <th>2002_iUsers</th>\n",
       "    </tr>\n",
       "  </thead>\n",
       "  <tbody>\n",
       "    <tr>\n",
       "      <th>Afghanistan</th>\n",
       "      <td>0.373</td>\n",
       "      <td>6.867054</td>\n",
       "      <td>0.004092</td>\n",
       "    </tr>\n",
       "    <tr>\n",
       "      <th>Albania</th>\n",
       "      <td>0.674</td>\n",
       "      <td>2.792918</td>\n",
       "      <td>0.390081</td>\n",
       "    </tr>\n",
       "    <tr>\n",
       "      <th>Algeria</th>\n",
       "      <td>0.663</td>\n",
       "      <td>3.754641</td>\n",
       "      <td>1.591641</td>\n",
       "    </tr>\n",
       "    <tr>\n",
       "      <th>Angola</th>\n",
       "      <td>0.406</td>\n",
       "      <td>11.941460</td>\n",
       "      <td>0.270377</td>\n",
       "    </tr>\n",
       "    <tr>\n",
       "      <th>Argentina</th>\n",
       "      <td>0.770</td>\n",
       "      <td>8.399384</td>\n",
       "      <td>10.882124</td>\n",
       "    </tr>\n",
       "    <tr>\n",
       "      <th>Armenia</th>\n",
       "      <td>0.657</td>\n",
       "      <td>3.223157</td>\n",
       "      <td>1.960405</td>\n",
       "    </tr>\n",
       "    <tr>\n",
       "      <th>Austria</th>\n",
       "      <td>0.837</td>\n",
       "      <td>15.156030</td>\n",
       "      <td>36.564985</td>\n",
       "    </tr>\n",
       "  </tbody>\n",
       "</table>\n",
       "</div>"
      ],
      "text/plain": [
       "             2002_IDH  2002_Suicídios  2002_iUsers\n",
       "Afghanistan     0.373        6.867054     0.004092\n",
       "Albania         0.674        2.792918     0.390081\n",
       "Algeria         0.663        3.754641     1.591641\n",
       "Angola          0.406       11.941460     0.270377\n",
       "Argentina       0.770        8.399384    10.882124\n",
       "Armenia         0.657        3.223157     1.960405\n",
       "Austria         0.837       15.156030    36.564985"
      ]
     },
     "execution_count": 40,
     "metadata": {},
     "output_type": "execute_result"
    }
   ],
   "source": [
    "# limpeza com Join para 2002\n",
    "\n",
    "# 1\n",
    "IDH_2002 = IDH.loc[:, [\"geo\", 2002]]\n",
    "Suic_2002 = Suic.loc[:, [\"Suicide, age adjusted, per 100 000 standard population\", 2002]]\n",
    "\n",
    "# 2\n",
    "IDH_idx = IDH_2002.set_index('geo')\n",
    "Suic_idx = Suic_2002.set_index('Suicide, age adjusted, per 100 000 standard population')\n",
    "Internet_idx = Internet.set_index('Internet users (per 100 people)')\n",
    "\n",
    "# 3\n",
    "df = IDH_idx.join(Suic_idx, how='inner', lsuffix='_IDH', rsuffix='_Suicídios')\n",
    "dats = df.join(Internet_idx, how=\"inner\")\n",
    "data = dats.dropna()\n",
    "\n",
    "data.head(7)\n",
    "\n",
    "\n",
    "\n",
    "\n"
   ]
  },
  {
   "cell_type": "code",
   "execution_count": 41,
   "metadata": {},
   "outputs": [],
   "source": [
    "data.to_csv( 'P1_IDH_2002.csv', index=True)"
   ]
  },
  {
   "cell_type": "markdown",
   "metadata": {},
   "source": [
    "Nestas células foram feitas as limpagens dos dados dos arquivos em xlsx e feito um dataframe para que a cruzagem de dados seja feita.\n",
    "\n",
    "1) Escolhida somente a coluna dos anos 2002 das 3 informações (nota-se que a tabela de dados da internet nao precisa ser cortada para o ano 2002 por ter somente esse dado)\n",
    "\n",
    "2) Trocado o índice da tabela de um numero pré definido para o nome dos países\n",
    "\n",
    "3) Dado o Join nos dados, criando o dataframe final\n",
    "\n",
    "    O mesmo foi feito a seguir para o ano 2004"
   ]
  },
  {
   "cell_type": "markdown",
   "metadata": {},
   "source": [
    "# Dataframe 2004"
   ]
  },
  {
   "cell_type": "code",
   "execution_count": 42,
   "metadata": {},
   "outputs": [
    {
     "data": {
      "text/html": [
       "<div>\n",
       "<style scoped>\n",
       "    .dataframe tbody tr th:only-of-type {\n",
       "        vertical-align: middle;\n",
       "    }\n",
       "\n",
       "    .dataframe tbody tr th {\n",
       "        vertical-align: top;\n",
       "    }\n",
       "\n",
       "    .dataframe thead th {\n",
       "        text-align: right;\n",
       "    }\n",
       "</style>\n",
       "<table border=\"1\" class=\"dataframe\">\n",
       "  <thead>\n",
       "    <tr style=\"text-align: right;\">\n",
       "      <th></th>\n",
       "      <th>2004_IDH</th>\n",
       "      <th>2004_Suicídios</th>\n",
       "      <th>2004_iUsers</th>\n",
       "    </tr>\n",
       "  </thead>\n",
       "  <tbody>\n",
       "    <tr>\n",
       "      <th>Afghanistan</th>\n",
       "      <td>0.396</td>\n",
       "      <td>6.684385</td>\n",
       "      <td>0.097164</td>\n",
       "    </tr>\n",
       "    <tr>\n",
       "      <th>Albania</th>\n",
       "      <td>0.685</td>\n",
       "      <td>7.699330</td>\n",
       "      <td>2.420388</td>\n",
       "    </tr>\n",
       "    <tr>\n",
       "      <th>Algeria</th>\n",
       "      <td>0.680</td>\n",
       "      <td>4.848770</td>\n",
       "      <td>4.634475</td>\n",
       "    </tr>\n",
       "    <tr>\n",
       "      <th>Angola</th>\n",
       "      <td>0.426</td>\n",
       "      <td>14.554677</td>\n",
       "      <td>0.464815</td>\n",
       "    </tr>\n",
       "    <tr>\n",
       "      <th>Argentina</th>\n",
       "      <td>0.780</td>\n",
       "      <td>8.045732</td>\n",
       "      <td>16.036684</td>\n",
       "    </tr>\n",
       "    <tr>\n",
       "      <th>Armenia</th>\n",
       "      <td>0.679</td>\n",
       "      <td>3.741588</td>\n",
       "      <td>4.899009</td>\n",
       "    </tr>\n",
       "    <tr>\n",
       "      <th>Austria</th>\n",
       "      <td>0.848</td>\n",
       "      <td>13.644300</td>\n",
       "      <td>54.370248</td>\n",
       "    </tr>\n",
       "    <tr>\n",
       "      <th>Bahamas</th>\n",
       "      <td>0.786</td>\n",
       "      <td>3.374416</td>\n",
       "      <td>22.000000</td>\n",
       "    </tr>\n",
       "    <tr>\n",
       "      <th>Bahrain</th>\n",
       "      <td>0.806</td>\n",
       "      <td>4.414990</td>\n",
       "      <td>21.458681</td>\n",
       "    </tr>\n",
       "    <tr>\n",
       "      <th>Bangladesh</th>\n",
       "      <td>0.499</td>\n",
       "      <td>14.538357</td>\n",
       "      <td>0.199036</td>\n",
       "    </tr>\n",
       "  </tbody>\n",
       "</table>\n",
       "</div>"
      ],
      "text/plain": [
       "             2004_IDH  2004_Suicídios  2004_iUsers\n",
       "Afghanistan     0.396        6.684385     0.097164\n",
       "Albania         0.685        7.699330     2.420388\n",
       "Algeria         0.680        4.848770     4.634475\n",
       "Angola          0.426       14.554677     0.464815\n",
       "Argentina       0.780        8.045732    16.036684\n",
       "Armenia         0.679        3.741588     4.899009\n",
       "Austria         0.848       13.644300    54.370248\n",
       "Bahamas         0.786        3.374416    22.000000\n",
       "Bahrain         0.806        4.414990    21.458681\n",
       "Bangladesh      0.499       14.538357     0.199036"
      ]
     },
     "execution_count": 42,
     "metadata": {},
     "output_type": "execute_result"
    }
   ],
   "source": [
    "# 1\n",
    "IDH_2004 = IDH.loc[:, [\"geo\", 2004]]\n",
    "Suic_2004 = Suic.loc[:, [\"Suicide, age adjusted, per 100 000 standard population\", 2004]]\n",
    "\n",
    "# 2\n",
    "IDH_idx = IDH_2004.set_index('geo')\n",
    "Suic_idx = Suic_2004.set_index('Suicide, age adjusted, per 100 000 standard population')\n",
    "Internet_idx = Internet2.set_index('Internet users (per 100 people)')\n",
    "\n",
    "# 3\n",
    "df = IDH_idx.join(Suic_idx, how='inner', lsuffix='_IDH', rsuffix='_Suicídios')\n",
    "dats = df.join(Internet_idx, how=\"inner\")\n",
    "data2 = dats.dropna()\n",
    "\n",
    "data2.head(10)"
   ]
  },
  {
   "cell_type": "code",
   "execution_count": 43,
   "metadata": {},
   "outputs": [],
   "source": [
    "data2.to_csv( 'P1_IDH_2004.csv', index=True)"
   ]
  },
  {
   "cell_type": "markdown",
   "metadata": {},
   "source": [
    "  "
   ]
  },
  {
   "cell_type": "markdown",
   "metadata": {},
   "source": [
    "Depois de feito os dataframes, é possivel plotar os graficos de scatter para poder analisar as correlações e chegar a conclusão"
   ]
  },
  {
   "cell_type": "markdown",
   "metadata": {},
   "source": [
    "Antes de analisar os graficos cruzados, analisaremos os dados separadamente."
   ]
  },
  {
   "cell_type": "markdown",
   "metadata": {},
   "source": [
    "   "
   ]
  },
  {
   "cell_type": "code",
   "execution_count": 94,
   "metadata": {
    "scrolled": true
   },
   "outputs": [
    {
     "data": {
      "text/plain": [
       "<matplotlib.axes._subplots.AxesSubplot at 0x249d221b2b0>"
      ]
     },
     "execution_count": 94,
     "metadata": {},
     "output_type": "execute_result"
    },
    {
     "data": {
      "image/png": "[encoded data removed]",
      "text/plain": [
       "<Figure size 432x288 with 1 Axes>"
      ]
     },
     "metadata": {},
     "output_type": "display_data"
    }
   ],
   "source": [
    "data[\"2002_IDH\"].plot.hist()"
   ]
  },
  {
   "cell_type": "markdown",
   "metadata": {},
   "source": [
    "Analisando o histograma acima, pode-se notar que:\n",
    "\n",
    "1) Os dados de IDH não são geometricos\n",
    "\n",
    "2) As caudas não são muito relevantes \n",
    "\n",
    "3) exsite uma grande frequencia de IDHs entre 0.4 e 0.45 e 0.65 e 0.72\n",
    "\n",
    "importante notar que como o IDH é um numero de 0 a 1, nao existem valores que extrapolam."
   ]
  },
  {
   "cell_type": "code",
   "execution_count": 89,
   "metadata": {},
   "outputs": [
    {
     "data": {
      "text/plain": [
       "<matplotlib.axes._subplots.AxesSubplot at 0x249d0f6ba90>"
      ]
     },
     "execution_count": 89,
     "metadata": {},
     "output_type": "execute_result"
    },
    {
     "data": {
      "image/png": "[encoded data removed]",
      "text/plain": [
       "<Figure size 432x288 with 1 Axes>"
      ]
     },
     "metadata": {},
     "output_type": "display_data"
    }
   ],
   "source": [
    "data[\"2002_iUsers\"].plot.hist()"
   ]
  },
  {
   "cell_type": "markdown",
   "metadata": {},
   "source": [
    "No histograma de Acesso a internet por 100 habitantes, pode-se notar uma assimetria clara perto do 0. Esses países provavelmente são os que tem pouca infraestrutura e tecnologia, portanto pouco acesso a internet.\n",
    "\n",
    "Podemos, também, imaginar a correlação que esses dados vao ter com o IDH dos países ja que o acesso a informação reflete com o poder monetario deles.. "
   ]
  },
  {
   "cell_type": "code",
   "execution_count": 110,
   "metadata": {},
   "outputs": [
    {
     "data": {
      "text/plain": [
       "<matplotlib.axes._subplots.AxesSubplot at 0x249d2abe828>"
      ]
     },
     "execution_count": 110,
     "metadata": {},
     "output_type": "execute_result"
    },
    {
     "data": {
      "image/png": "[encoded data removed]",
      "text/plain": [
       "<Figure size 432x288 with 1 Axes>"
      ]
     },
     "metadata": {},
     "output_type": "display_data"
    }
   ],
   "source": [
    "data[\"2002_Suicídios\"].plot.hist()"
   ]
  },
  {
   "cell_type": "markdown",
   "metadata": {},
   "source": [
    "Analisando o histograma acima pode se perceber que que o numero de suicídios esta concentrado em 15 para baixo com a existencia de algumas exceções. O que pode implicar que seja improvavel existir alguma correlação dessa com outras variáveis"
   ]
  },
  {
   "cell_type": "markdown",
   "metadata": {},
   "source": [
    "# Análises bivariadas"
   ]
  },
  {
   "cell_type": "code",
   "execution_count": 117,
   "metadata": {
    "scrolled": true
   },
   "outputs": [
    {
     "data": {
      "image/png": "[encoded data removed]",
      "text/plain": [
       "<Figure size 432x288 with 1 Axes>"
      ]
     },
     "metadata": {},
     "output_type": "display_data"
    }
   ],
   "source": [
    "data.plot.scatter(x='2002_IDH', y='2002_Suicídios');"
   ]
  },
  {
   "cell_type": "markdown",
   "metadata": {},
   "source": [
    "Pode-se notar que, ao cruzar suicídios com IDH dos países, o grafico nao aparenta ter qualquer correlação. O que pode se concluir é que, independente do IDH, a proporcionalidade de suicídios por 100.000 habitantes nao varia de maneira relevante. Essa proporcionalidade se mantem concentrada numa faixa de 0 a 20 com alguns dados extrapolados provavelmente devido ao numero de habitantes ou tamanho geografico do país"
   ]
  },
  {
   "cell_type": "code",
   "execution_count": 87,
   "metadata": {},
   "outputs": [
    {
     "data": {
      "text/plain": [
       "<matplotlib.axes._subplots.AxesSubplot at 0x249d0ea3f60>"
      ]
     },
     "execution_count": 87,
     "metadata": {},
     "output_type": "execute_result"
    },
    {
     "data": {
      "image/png": "[encoded data removed]",
      "text/plain": [
       "<Figure size 432x288 with 1 Axes>"
      ]
     },
     "metadata": {},
     "output_type": "display_data"
    }
   ],
   "source": [
    "data.plot.scatter(x='2002_iUsers', y='2002_IDH')\n"
   ]
  },
  {
   "cell_type": "markdown",
   "metadata": {},
   "source": [
    "Nesta grafico de disperção é possiel notar que ha uma correlação entre IDH e acesso a internet. Essa correlação pode ser pelo fato do acesso a internet estar correlacionado a infraestrutura tecnologica. Ou seja, se um país tem dinheiro para investir em tecnología, provavelmente é um pais desenvolvido."
   ]
  },
  {
   "cell_type": "code",
   "execution_count": 99,
   "metadata": {},
   "outputs": [
    {
     "data": {
      "text/plain": [
       "<matplotlib.axes._subplots.AxesSubplot at 0x249d2548160>"
      ]
     },
     "execution_count": 99,
     "metadata": {},
     "output_type": "execute_result"
    },
    {
     "data": {
      "image/png": "[encoded data removed]",
      "text/plain": [
       "<Figure size 432x288 with 1 Axes>"
      ]
     },
     "metadata": {},
     "output_type": "display_data"
    }
   ],
   "source": [
    "data.plot.scatter(y='2002_Suicídios', x='2002_iUsers', logx=True)"
   ]
  },
  {
   "cell_type": "markdown",
   "metadata": {},
   "source": [
    "Usando a escala logaritmica no eixo do acesso a internet, pode-se notar que não existe correlação concreta também entre suicpidios e desenvolvimento tecnologico de um país."
   ]
  },
  {
   "cell_type": "markdown",
   "metadata": {},
   "source": [
    "Uma vez plotado os grafios, se buscou a reta de correlação entre eles para que se possa ter certeza das conclusões tiradas acima"
   ]
  },
  {
   "cell_type": "code",
   "execution_count": 114,
   "metadata": {},
   "outputs": [],
   "source": [
    "def reta(dados_x, dados_y, EixoX, EixoY, Ano):    \n",
    "    a = dados_y.cov(dados_x) / dados_x.var()\n",
    "    b = dados_y.mean() - a*dados_x.mean()\n",
    " \n",
    "    print('Ajuste linear entre X3 e X4:')\n",
    "    print('Coeficiente linear:', b)\n",
    "    print('Coeficiente angular:', a)\n",
    " \n",
    "    fig = plt.figure(figsize=(8, 6))\n",
    "    plt.scatter(dados_x, dados_y, c='red', alpha=0.8)\n",
    "    plt.title(Ano)\n",
    "    plt.xlabel(EixoX)\n",
    "    plt.ylabel(EixoY)\n",
    " \n",
    "    plt.plot((dados_x.min(), dados_x.max()), (a*dados_x.min()+b, a*dados_x.max()+b), color='blue')\n",
    " \n",
    "    plt.tight_layout()\n",
    "    plt.show()"
   ]
  },
  {
   "cell_type": "code",
   "execution_count": 120,
   "metadata": {},
   "outputs": [
    {
     "name": "stdout",
     "output_type": "stream",
     "text": [
      "Ajuste linear entre X3 e X4:\n",
      "Coeficiente linear: 5.465728040694981\n",
      "Coeficiente angular: 6.241535848815197\n"
     ]
    },
    {
     "data": {
      "image/png": "[encoded data removed]",
      "text/plain": [
       "<Figure size 576x432 with 1 Axes>"
      ]
     },
     "metadata": {},
     "output_type": "display_data"
    },
    {
     "name": "stdout",
     "output_type": "stream",
     "text": [
      "Ajuste linear entre X3 e X4:\n",
      "Coeficiente linear: 0.5495539461646155\n",
      "Coeficiente angular: 0.006706386368716619\n"
     ]
    },
    {
     "data": {
      "image/png": "[encoded data removed]",
      "text/plain": [
       "<Figure size 576x432 with 1 Axes>"
      ]
     },
     "metadata": {},
     "output_type": "display_data"
    },
    {
     "name": "stdout",
     "output_type": "stream",
     "text": [
      "Ajuste linear entre X3 e X4:\n",
      "Coeficiente linear: 8.680512283232009\n",
      "Coeficiente angular: 0.058630864341005735\n"
     ]
    },
    {
     "data": {
      "image/png": "[encoded data removed]",
      "text/plain": [
       "<Figure size 576x432 with 1 Axes>"
      ]
     },
     "metadata": {},
     "output_type": "display_data"
    }
   ],
   "source": [
    "reta(data['2002_IDH'],data['2002_Suicídios'], 'Suicídios', 'IDH', '2002')\n",
    "reta(data['2002_iUsers'],data['2002_IDH'], 'iUsers', 'IDH', '2002')\n",
    "reta(data['2002_iUsers'],data['2002_Suicídios'], 'iUsers', 'Suicídios', '2002')"
   ]
  },
  {
   "cell_type": "markdown",
   "metadata": {},
   "source": [
    "Depois de analisar as retas podemos ver que as conclusões tirardas acima se mantem. a unica corelação que se pode observar é a do IDH com o acesso a internet, que deve ao fato de desenvolvimento tecnologico. "
   ]
  },
  {
   "cell_type": "code",
   "execution_count": 59,
   "metadata": {},
   "outputs": [
    {
     "data": {
      "text/html": [
       "<div>\n",
       "<style scoped>\n",
       "    .dataframe tbody tr th:only-of-type {\n",
       "        vertical-align: middle;\n",
       "    }\n",
       "\n",
       "    .dataframe tbody tr th {\n",
       "        vertical-align: top;\n",
       "    }\n",
       "\n",
       "    .dataframe thead th {\n",
       "        text-align: right;\n",
       "    }\n",
       "</style>\n",
       "<table border=\"1\" class=\"dataframe\">\n",
       "  <thead>\n",
       "    <tr style=\"text-align: right;\">\n",
       "      <th></th>\n",
       "      <th>2002_IDH</th>\n",
       "      <th>2002_Suicídios</th>\n",
       "      <th>2002_iUsers</th>\n",
       "    </tr>\n",
       "  </thead>\n",
       "  <tbody>\n",
       "    <tr>\n",
       "      <th>2002_IDH</th>\n",
       "      <td>1.000000</td>\n",
       "      <td>0.156669</td>\n",
       "      <td>0.723371</td>\n",
       "    </tr>\n",
       "    <tr>\n",
       "      <th>2002_Suicídios</th>\n",
       "      <td>0.156669</td>\n",
       "      <td>1.000000</td>\n",
       "      <td>0.158742</td>\n",
       "    </tr>\n",
       "    <tr>\n",
       "      <th>2002_iUsers</th>\n",
       "      <td>0.723371</td>\n",
       "      <td>0.158742</td>\n",
       "      <td>1.000000</td>\n",
       "    </tr>\n",
       "  </tbody>\n",
       "</table>\n",
       "</div>"
      ],
      "text/plain": [
       "                2002_IDH  2002_Suicídios  2002_iUsers\n",
       "2002_IDH        1.000000        0.156669     0.723371\n",
       "2002_Suicídios  0.156669        1.000000     0.158742\n",
       "2002_iUsers     0.723371        0.158742     1.000000"
      ]
     },
     "execution_count": 59,
     "metadata": {},
     "output_type": "execute_result"
    }
   ],
   "source": [
    "data.corr()"
   ]
  },
  {
   "cell_type": "markdown",
   "metadata": {},
   "source": [
    "Podemos ver a correlação dos graficos cruzados na tabela acima e nos acertificar o que foi dito antes.\n",
    "IDH com Suicídios tem uma correlação 0.15, o que quer dizer q não apresenta correlação\n",
    "IDH com acesso a internet tem 0.72, o que, sem analisar os gráficos, não tem como dizer que existe de fato uma correlação. Porém, quando se olha o grafico, percebe-se a tendência.\n",
    "E, por fim, temos a correlação de suicídios com acesso a internet, que também é de aprox. 0.15, tirando as mesmas conclusões da primeira cruzagem"
   ]
  },
  {
   "cell_type": "markdown",
   "metadata": {},
   "source": [
    "Depois de esclarecido essas correlações, podemos nos perguntar.... Mas como é essa correlação em outro ano futuro??\n",
    "\n",
    "Faremos, então, a mesma analise de 2002, porém, desta vez, com o ano de 2004..."
   ]
  },
  {
   "cell_type": "code",
   "execution_count": 60,
   "metadata": {},
   "outputs": [
    {
     "data": {
      "text/html": [
       "<div>\n",
       "<style scoped>\n",
       "    .dataframe tbody tr th:only-of-type {\n",
       "        vertical-align: middle;\n",
       "    }\n",
       "\n",
       "    .dataframe tbody tr th {\n",
       "        vertical-align: top;\n",
       "    }\n",
       "\n",
       "    .dataframe thead th {\n",
       "        text-align: right;\n",
       "    }\n",
       "</style>\n",
       "<table border=\"1\" class=\"dataframe\">\n",
       "  <thead>\n",
       "    <tr style=\"text-align: right;\">\n",
       "      <th></th>\n",
       "      <th>2004_IDH</th>\n",
       "      <th>2004_Suicídios</th>\n",
       "      <th>2004_iUsers</th>\n",
       "    </tr>\n",
       "  </thead>\n",
       "  <tbody>\n",
       "    <tr>\n",
       "      <th>2004_IDH</th>\n",
       "      <td>1.000000</td>\n",
       "      <td>0.051239</td>\n",
       "      <td>0.762281</td>\n",
       "    </tr>\n",
       "    <tr>\n",
       "      <th>2004_Suicídios</th>\n",
       "      <td>0.051239</td>\n",
       "      <td>1.000000</td>\n",
       "      <td>0.129776</td>\n",
       "    </tr>\n",
       "    <tr>\n",
       "      <th>2004_iUsers</th>\n",
       "      <td>0.762281</td>\n",
       "      <td>0.129776</td>\n",
       "      <td>1.000000</td>\n",
       "    </tr>\n",
       "  </tbody>\n",
       "</table>\n",
       "</div>"
      ],
      "text/plain": [
       "                2004_IDH  2004_Suicídios  2004_iUsers\n",
       "2004_IDH        1.000000        0.051239     0.762281\n",
       "2004_Suicídios  0.051239        1.000000     0.129776\n",
       "2004_iUsers     0.762281        0.129776     1.000000"
      ]
     },
     "execution_count": 60,
     "metadata": {},
     "output_type": "execute_result"
    }
   ],
   "source": [
    "data2.corr()"
   ]
  },
  {
   "cell_type": "markdown",
   "metadata": {},
   "source": [
    "Pode-se notar somente olhando as correlações que, entre elas, ha somente uma mudança relevante:\n",
    "A correlação entre Suicídios e IDH foi de 0.15 para 0.05! O que serve para afirmar a inexistência de uma correlação"
   ]
  },
  {
   "cell_type": "code",
   "execution_count": 70,
   "metadata": {
    "scrolled": true
   },
   "outputs": [],
   "source": [
    "comp_IDH_idx = comp_IDH.set_index('geo').dropna()\n",
    "comp_In_idx = comp_In.set_index('Internet users (per 100 people)').dropna()\n",
    "comp_S_idx = comp_S.set_index('Suicide, age adjusted, per 100 000 standard population').dropna()"
   ]
  },
  {
   "cell_type": "markdown",
   "metadata": {},
   "source": [
    "   "
   ]
  },
  {
   "cell_type": "markdown",
   "metadata": {},
   "source": [
    "Vamos dar uma olhada agora em como 2004 é diferente de 2002...."
   ]
  },
  {
   "cell_type": "code",
   "execution_count": 67,
   "metadata": {},
   "outputs": [
    {
     "data": {
      "text/plain": [
       "<matplotlib.axes._subplots.AxesSubplot at 0x249cf27e358>"
      ]
     },
     "execution_count": 67,
     "metadata": {},
     "output_type": "execute_result"
    },
    {
     "data": {
      "image/png": "[encoded data removed]",
      "text/plain": [
       "<Figure size 432x288 with 1 Axes>"
      ]
     },
     "metadata": {},
     "output_type": "display_data"
    },
    {
     "data": {
      "image/png": "[encoded data removed]",
      "text/plain": [
       "<Figure size 432x288 with 1 Axes>"
      ]
     },
     "metadata": {},
     "output_type": "display_data"
    },
    {
     "data": {
      "image/png": "[encoded data removed]",
      "text/plain": [
       "<Figure size 432x288 with 1 Axes>"
      ]
     },
     "metadata": {},
     "output_type": "display_data"
    }
   ],
   "source": [
    "comp_IDH_idx.plot.hist()\n",
    "comp_In_idx.plot.hist()\n",
    "comp_S_idx.plot.hist()"
   ]
  },
  {
   "cell_type": "markdown",
   "metadata": {},
   "source": [
    "Podemos ver que ha flutuação entre os anos, mas nada muito relevante..."
   ]
  },
  {
   "cell_type": "markdown",
   "metadata": {},
   "source": [
    "Vamos, então, retomar oque concluimos..."
   ]
  },
  {
   "cell_type": "markdown",
   "metadata": {},
   "source": [
    "Cruzando esses três dados, foi possivel observer uma correlação plausível entre o IDH e o acesso a internet. Podemos concluir várias coisas com essa informação:\n",
    "O acesso a internet esta ligado com desenvolvimento tecnologico de um país e, se esse país não tem recursos para invertir em setores básicos do desenvolvimento, é improvavel que ele invista em algo de setores não estruturais, como tecnologia e informação.\n",
    "Podemos concluir, tambem, que o Suicídio não esta relacionado ao desenvolvimento social de um país, uma vez que, pessoas que passam por maiores dificuldades financeiras não vêm suicídio como uma realidade/opção, por terem outras dificuldades maiores.\n",
    "Por último, concluimos que  suicídio tambem não esta ligado ao acesso a internet. antes de analisar os dados, é possível fazer uma conclusão errônia de que eles podem estar relacionados devido ao efeito manada que jovens podem ter ao ver o suicídio na internet e em outros meios de informação\n",
    "\n"
   ]
  }
 ],
 "metadata": {
  "kernelspec": {
   "display_name": "Python 3",
   "language": "python",
   "name": "python3"
  },
  "language_info": {
   "codemirror_mode": {
    "name": "ipython",
    "version": 3
   },
   "file_extension": ".py",
   "mimetype": "text/x-python",
   "name": "python",
   "nbconvert_exporter": "python",
   "pygments_lexer": "ipython3",
   "version": "3.6.5"
  }
 },
 "nbformat": 4,
 "nbformat_minor": 2
}
